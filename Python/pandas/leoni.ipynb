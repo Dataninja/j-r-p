{
 "cells": [
  {
   "cell_type": "code",
   "execution_count": 312,
   "metadata": {
    "collapsed": true
   },
   "outputs": [],
   "source": [
    "import pandas as pd\n",
    "import numpy as np"
   ]
  },
  {
   "cell_type": "code",
   "execution_count": 313,
   "metadata": {},
   "outputs": [],
   "source": [
    "pageURL  = 'https://it.wikipedia.org/wiki/Leone_d%27oro_al_miglior_film'\n",
    "tables = pd.read_html(pageURL, match='Anno', header=0)\n",
    "dataframe = tables[0]"
   ]
  },
  {
   "cell_type": "code",
   "execution_count": 314,
   "metadata": {
    "collapsed": true
   },
   "outputs": [],
   "source": [
    "dataframe['index_col'] = dataframe.index"
   ]
  },
  {
   "cell_type": "code",
   "execution_count": 315,
   "metadata": {},
   "outputs": [
    {
     "data": {
      "text/html": [
       "<div>\n",
       "<style>\n",
       "    .dataframe thead tr:only-child th {\n",
       "        text-align: right;\n",
       "    }\n",
       "\n",
       "    .dataframe thead th {\n",
       "        text-align: left;\n",
       "    }\n",
       "\n",
       "    .dataframe tbody tr th {\n",
       "        vertical-align: top;\n",
       "    }\n",
       "</style>\n",
       "<table border=\"1\" class=\"dataframe\">\n",
       "  <thead>\n",
       "    <tr style=\"text-align: right;\">\n",
       "      <th></th>\n",
       "      <th>Anno</th>\n",
       "      <th>Film</th>\n",
       "      <th>Regista</th>\n",
       "      <th>Nazione</th>\n",
       "      <th>index_col</th>\n",
       "    </tr>\n",
       "  </thead>\n",
       "  <tbody>\n",
       "    <tr>\n",
       "      <th>14</th>\n",
       "      <td>Il generale Della Rovere</td>\n",
       "      <td>Roberto Rossellini</td>\n",
       "      <td>Italia</td>\n",
       "      <td>NaN</td>\n",
       "      <td>14</td>\n",
       "    </tr>\n",
       "  </tbody>\n",
       "</table>\n",
       "</div>"
      ],
      "text/plain": [
       "                        Anno                Film Regista Nazione  index_col\n",
       "14  Il generale Della Rovere  Roberto Rossellini  Italia     NaN         14"
      ]
     },
     "execution_count": 315,
     "metadata": {},
     "output_type": "execute_result"
    }
   ],
   "source": [
    "dataframe[14:15]"
   ]
  },
  {
   "cell_type": "code",
   "execution_count": 316,
   "metadata": {},
   "outputs": [],
   "source": [
    "# creo un dataframe per i record con le colonne mappate male, in cui l'anno contiene stringhe\n",
    "df2=dataframe[dataframe['Anno'].str.contains(\"[a-zA-Z]\")]\n",
    "# creo un dataframe per tutti gli altri valori\n",
    "df1=dataframe[(~dataframe['Anno'].str.contains(\"[a-zA-Z]\")) & (dataframe['Regista'].str.contains(\".+\")) ]"
   ]
  },
  {
   "cell_type": "code",
   "execution_count": 317,
   "metadata": {},
   "outputs": [],
   "source": [
    "# aggiungo un colonna con valori nulli e la sposto a inizio dataframe\n",
    "df2.loc[:,'test']=np.nan\n",
    "col = \"test\" \n",
    "df2 = pd.concat([df2[col],df2.drop(col,axis=1)], axis=1)"
   ]
  },
  {
   "cell_type": "code",
   "execution_count": 318,
   "metadata": {
    "collapsed": true
   },
   "outputs": [],
   "source": [
    "# rimuovo da df2 la colonna in più\n",
    "colonna=len(df2.columns)-2\n",
    "df2.drop(df2.columns[colonna], axis = 1,inplace=True)"
   ]
  },
  {
   "cell_type": "code",
   "execution_count": 319,
   "metadata": {},
   "outputs": [],
   "source": [
    "# rinomino le colonne dei dataframe con dei numeri crescenti da 0 a salire\n",
    "df2.columns = np.arange(len(df2.columns))\n",
    "df1.columns = np.arange(len(df1.columns))"
   ]
  },
  {
   "cell_type": "code",
   "execution_count": 320,
   "metadata": {},
   "outputs": [],
   "source": [
    "# faccio il merge dei dataframe\n",
    "df=df1.append(df2, ignore_index=True)"
   ]
  },
  {
   "cell_type": "code",
   "execution_count": 321,
   "metadata": {},
   "outputs": [],
   "source": [
    "# riordino le righe\n",
    "df.sort_values([4],inplace=True)\n",
    "# inserisco l'anno nelle celle in cui manca\n",
    "df.fillna(method=\"ffill\",inplace=True)\n",
    "# imposto un separatore per le celle con più nazioni\n",
    "df.replace({'\\/.{1}': ':'}, regex=True,inplace=True)\n",
    "# rinomino le colonne\n",
    "df.rename(index=str, columns={0: \"Anno\", 1: \"Titolo\",2:\"Regista\",3:\"Nazione\"}, inplace=True)\n",
    "# rimuovo una colonna non utile\n",
    "df.drop([4], axis=1)\n",
    "# salvo la lista in CSV\n",
    "df.to_csv(\"leoni_pd.csv\",index=False,encoding=\"utf-8\")"
   ]
  },
  {
   "cell_type": "code",
   "execution_count": 322,
   "metadata": {},
   "outputs": [],
   "source": [
    "nazioni=df[['Nazione']]"
   ]
  },
  {
   "cell_type": "code",
   "execution_count": 323,
   "metadata": {},
   "outputs": [],
   "source": [
    "# splitto le celle con più nazioni associate, traspongo in verticale e creo un dataframe\n",
    "nazioni=nazioni['Nazione'].str.split(':', expand=True).stack()\n",
    "nazioni=nazioni.to_frame()"
   ]
  },
  {
   "cell_type": "code",
   "execution_count": 324,
   "metadata": {},
   "outputs": [],
   "source": [
    "# raggruppo, conteggio e ordino\n",
    "nazioni=nazioni.groupby([0]).size().reset_index(name='Conteggio').sort_values(['Conteggio'], ascending=False)\n",
    "nazioni.rename(index=str, columns={0: \"Nazione\"}, inplace=True)"
   ]
  },
  {
   "cell_type": "code",
   "execution_count": 325,
   "metadata": {
    "collapsed": true
   },
   "outputs": [],
   "source": [
    "# salvo in CSV\n",
    "nazioni.to_csv(\"listaNazioni_pd.csv\",index=False,encoding=\"utf-8\")"
   ]
  }
 ],
 "metadata": {
  "kernelspec": {
   "display_name": "Python 3",
   "language": "python",
   "name": "python3"
  },
  "language_info": {
   "codemirror_mode": {
    "name": "ipython",
    "version": 2
   },
   "file_extension": ".py",
   "mimetype": "text/x-python",
   "name": "python",
   "nbconvert_exporter": "python",
   "pygments_lexer": "ipython2",
   "version": "2.7.12"
  }
 },
 "nbformat": 4,
 "nbformat_minor": 2
}
